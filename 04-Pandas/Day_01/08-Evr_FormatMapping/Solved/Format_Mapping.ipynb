{
 "cells": [
  {
   "cell_type": "code",
   "execution_count": 1,
   "metadata": {},
   "outputs": [],
   "source": [
    "import pandas as pd"
   ]
  },
  {
   "cell_type": "code",
   "execution_count": 2,
   "metadata": {},
   "outputs": [
    {
     "data": {
      "text/html": [
       "<div>\n",
       "<style scoped>\n",
       "    .dataframe tbody tr th:only-of-type {\n",
       "        vertical-align: middle;\n",
       "    }\n",
       "\n",
       "    .dataframe tbody tr th {\n",
       "        vertical-align: top;\n",
       "    }\n",
       "\n",
       "    .dataframe thead th {\n",
       "        text-align: right;\n",
       "    }\n",
       "</style>\n",
       "<table border=\"1\" class=\"dataframe\">\n",
       "  <thead>\n",
       "    <tr style=\"text-align: right;\">\n",
       "      <th></th>\n",
       "      <th>Country</th>\n",
       "      <th>Item Type</th>\n",
       "      <th>Units Sold</th>\n",
       "      <th>Unit Price</th>\n",
       "      <th>Unit Cost</th>\n",
       "      <th>Total Revenue</th>\n",
       "      <th>Total Cost</th>\n",
       "      <th>Total Profit</th>\n",
       "    </tr>\n",
       "  </thead>\n",
       "  <tbody>\n",
       "    <tr>\n",
       "      <th>0</th>\n",
       "      <td>Tuvalu</td>\n",
       "      <td>Baby Food</td>\n",
       "      <td>9925</td>\n",
       "      <td>255.28</td>\n",
       "      <td>159.42</td>\n",
       "      <td>2533654.00</td>\n",
       "      <td>1582243.50</td>\n",
       "      <td>951410.50</td>\n",
       "    </tr>\n",
       "    <tr>\n",
       "      <th>1</th>\n",
       "      <td>Grenada</td>\n",
       "      <td>Cereal</td>\n",
       "      <td>2804</td>\n",
       "      <td>205.70</td>\n",
       "      <td>117.11</td>\n",
       "      <td>576782.80</td>\n",
       "      <td>328376.44</td>\n",
       "      <td>248406.36</td>\n",
       "    </tr>\n",
       "    <tr>\n",
       "      <th>2</th>\n",
       "      <td>Russia</td>\n",
       "      <td>Office Supplies</td>\n",
       "      <td>1779</td>\n",
       "      <td>651.21</td>\n",
       "      <td>524.96</td>\n",
       "      <td>1158502.59</td>\n",
       "      <td>933903.84</td>\n",
       "      <td>224598.75</td>\n",
       "    </tr>\n",
       "    <tr>\n",
       "      <th>3</th>\n",
       "      <td>Sao Tome and Principe</td>\n",
       "      <td>Fruits</td>\n",
       "      <td>8102</td>\n",
       "      <td>9.33</td>\n",
       "      <td>6.92</td>\n",
       "      <td>75591.66</td>\n",
       "      <td>56065.84</td>\n",
       "      <td>19525.82</td>\n",
       "    </tr>\n",
       "    <tr>\n",
       "      <th>4</th>\n",
       "      <td>Rwanda</td>\n",
       "      <td>Office Supplies</td>\n",
       "      <td>5062</td>\n",
       "      <td>651.21</td>\n",
       "      <td>524.96</td>\n",
       "      <td>3296425.02</td>\n",
       "      <td>2657347.52</td>\n",
       "      <td>639077.50</td>\n",
       "    </tr>\n",
       "  </tbody>\n",
       "</table>\n",
       "</div>"
      ],
      "text/plain": [
       "                 Country        Item Type  Units Sold  Unit Price  Unit Cost  \\\n",
       "0                 Tuvalu        Baby Food        9925      255.28     159.42   \n",
       "1                Grenada           Cereal        2804      205.70     117.11   \n",
       "2                 Russia  Office Supplies        1779      651.21     524.96   \n",
       "3  Sao Tome and Principe           Fruits        8102        9.33       6.92   \n",
       "4                 Rwanda  Office Supplies        5062      651.21     524.96   \n",
       "\n",
       "   Total Revenue  Total Cost  Total Profit  \n",
       "0     2533654.00  1582243.50     951410.50  \n",
       "1      576782.80   328376.44     248406.36  \n",
       "2     1158502.59   933903.84     224598.75  \n",
       "3       75591.66    56065.84      19525.82  \n",
       "4     3296425.02  2657347.52     639077.50  "
      ]
     },
     "execution_count": 2,
     "metadata": {},
     "output_type": "execute_result"
    }
   ],
   "source": [
    "# Mapping lets you format an entire DataFrame\n",
    "file = \"Resources/sales_data.csv\"\n",
    "sales_data_df = pd.read_csv(file)\n",
    "sales_data_df.head()"
   ]
  },
  {
   "cell_type": "code",
   "execution_count": 3,
   "metadata": {},
   "outputs": [
    {
     "data": {
      "text/plain": [
       "Country           object\n",
       "Item Type         object\n",
       "Units Sold         int64\n",
       "Unit Price       float64\n",
       "Unit Cost        float64\n",
       "Total Revenue    float64\n",
       "Total Cost       float64\n",
       "Total Profit     float64\n",
       "dtype: object"
      ]
     },
     "execution_count": 3,
     "metadata": {},
     "output_type": "execute_result"
    }
   ],
   "source": [
    "sales_data_df.dtypes"
   ]
  },
  {
   "cell_type": "code",
   "execution_count": 4,
   "metadata": {},
   "outputs": [
    {
     "data": {
      "text/plain": [
       "Index(['Country', 'Item Type', 'Units Sold', 'Unit Price', 'Unit Cost',\n",
       "       'Total Revenue', 'Total Cost', 'Total Profit'],\n",
       "      dtype='object')"
      ]
     },
     "execution_count": 4,
     "metadata": {},
     "output_type": "execute_result"
    }
   ],
   "source": [
    "sales_data_df.columns"
   ]
  },
  {
   "cell_type": "code",
   "execution_count": 5,
   "metadata": {},
   "outputs": [
    {
     "data": {
      "text/html": [
       "<div>\n",
       "<style scoped>\n",
       "    .dataframe tbody tr th:only-of-type {\n",
       "        vertical-align: middle;\n",
       "    }\n",
       "\n",
       "    .dataframe tbody tr th {\n",
       "        vertical-align: top;\n",
       "    }\n",
       "\n",
       "    .dataframe thead th {\n",
       "        text-align: right;\n",
       "    }\n",
       "</style>\n",
       "<table border=\"1\" class=\"dataframe\">\n",
       "  <thead>\n",
       "    <tr style=\"text-align: right;\">\n",
       "      <th></th>\n",
       "      <th>Country</th>\n",
       "      <th>Item Type</th>\n",
       "      <th>Units Sold</th>\n",
       "      <th>Unit Price</th>\n",
       "      <th>Unit Cost</th>\n",
       "      <th>Total Revenue</th>\n",
       "      <th>Total Cost</th>\n",
       "      <th>Total Profit</th>\n",
       "    </tr>\n",
       "  </thead>\n",
       "  <tbody>\n",
       "    <tr>\n",
       "      <th>0</th>\n",
       "      <td>Tuvalu</td>\n",
       "      <td>Baby Food</td>\n",
       "      <td>9,925</td>\n",
       "      <td>$255.28</td>\n",
       "      <td>$159.42</td>\n",
       "      <td>$2,533,654.00</td>\n",
       "      <td>$1,582,243.50</td>\n",
       "      <td>$951,410.50</td>\n",
       "    </tr>\n",
       "    <tr>\n",
       "      <th>1</th>\n",
       "      <td>Grenada</td>\n",
       "      <td>Cereal</td>\n",
       "      <td>2,804</td>\n",
       "      <td>$205.70</td>\n",
       "      <td>$117.11</td>\n",
       "      <td>$576,782.80</td>\n",
       "      <td>$328,376.44</td>\n",
       "      <td>$248,406.36</td>\n",
       "    </tr>\n",
       "    <tr>\n",
       "      <th>2</th>\n",
       "      <td>Russia</td>\n",
       "      <td>Office Supplies</td>\n",
       "      <td>1,779</td>\n",
       "      <td>$651.21</td>\n",
       "      <td>$524.96</td>\n",
       "      <td>$1,158,502.59</td>\n",
       "      <td>$933,903.84</td>\n",
       "      <td>$224,598.75</td>\n",
       "    </tr>\n",
       "    <tr>\n",
       "      <th>3</th>\n",
       "      <td>Sao Tome and Principe</td>\n",
       "      <td>Fruits</td>\n",
       "      <td>8,102</td>\n",
       "      <td>$9.33</td>\n",
       "      <td>$6.92</td>\n",
       "      <td>$75,591.66</td>\n",
       "      <td>$56,065.84</td>\n",
       "      <td>$19,525.82</td>\n",
       "    </tr>\n",
       "    <tr>\n",
       "      <th>4</th>\n",
       "      <td>Rwanda</td>\n",
       "      <td>Office Supplies</td>\n",
       "      <td>5,062</td>\n",
       "      <td>$651.21</td>\n",
       "      <td>$524.96</td>\n",
       "      <td>$3,296,425.02</td>\n",
       "      <td>$2,657,347.52</td>\n",
       "      <td>$639,077.50</td>\n",
       "    </tr>\n",
       "  </tbody>\n",
       "</table>\n",
       "</div>"
      ],
      "text/plain": [
       "                 Country        Item Type Units Sold Unit Price Unit Cost  \\\n",
       "0                 Tuvalu        Baby Food      9,925    $255.28   $159.42   \n",
       "1                Grenada           Cereal      2,804    $205.70   $117.11   \n",
       "2                 Russia  Office Supplies      1,779    $651.21   $524.96   \n",
       "3  Sao Tome and Principe           Fruits      8,102      $9.33     $6.92   \n",
       "4                 Rwanda  Office Supplies      5,062    $651.21   $524.96   \n",
       "\n",
       "   Total Revenue     Total Cost Total Profit  \n",
       "0  $2,533,654.00  $1,582,243.50  $951,410.50  \n",
       "1    $576,782.80    $328,376.44  $248,406.36  \n",
       "2  $1,158,502.59    $933,903.84  $224,598.75  \n",
       "3     $75,591.66     $56,065.84   $19,525.82  \n",
       "4  $3,296,425.02  $2,657,347.52  $639,077.50  "
      ]
     },
     "execution_count": 5,
     "metadata": {},
     "output_type": "execute_result"
    }
   ],
   "source": [
    "# Use map() to format:\n",
    "# Units Sold with comma notation\n",
    "# Unit Price, Unit Cost, Total Revenue, Total Cost, and Total Profit \n",
    "# with a dollar sign, comma notation, and to two decimal places.\n",
    "\n",
    "sales_data_df[\"Units Sold\"] = sales_data_df[\"Units Sold\"].map(\"{:,.0f}\".format)\n",
    "sales_data_df[\"Unit Price\"] = sales_data_df[\"Unit Price\"].map(\"${:,.2f}\".format)\n",
    "sales_data_df[\"Unit Cost\"] = sales_data_df[\"Unit Cost\"].map(\"${:,.2f}\".format)\n",
    "sales_data_df[\"Total Revenue\"] = sales_data_df[\"Total Revenue\"].map(\"${:,.2f}\".format)\n",
    "sales_data_df[\"Total Cost\"] = sales_data_df[\"Total Cost\"].map(\"${:,.2f}\".format)\n",
    "sales_data_df[\"Total Profit\"] = sales_data_df[\"Total Profit\"].map(\"${:,.2f}\".format)\n",
    "sales_data_df.head()"
   ]
  },
  {
   "cell_type": "code",
   "execution_count": 6,
   "metadata": {},
   "outputs": [
    {
     "data": {
      "text/plain": [
       "Country          object\n",
       "Item Type        object\n",
       "Units Sold       object\n",
       "Unit Price       object\n",
       "Unit Cost        object\n",
       "Total Revenue    object\n",
       "Total Cost       object\n",
       "Total Profit     object\n",
       "dtype: object"
      ]
     },
     "execution_count": 6,
     "metadata": {},
     "output_type": "execute_result"
    }
   ],
   "source": [
    "# Mapping has changed the datatypes of the columns to strings\n",
    "sales_data_df.dtypes"
   ]
  },
  {
   "cell_type": "code",
   "execution_count": null,
   "metadata": {},
   "outputs": [],
   "source": []
  }
 ],
 "metadata": {
  "kernel_info": {
   "name": "python3"
  },
  "kernelspec": {
   "display_name": "PythonData",
   "language": "python",
   "name": "pythondata"
  },
  "language_info": {
   "codemirror_mode": {
    "name": "ipython",
    "version": 3
   },
   "file_extension": ".py",
   "mimetype": "text/x-python",
   "name": "python",
   "nbconvert_exporter": "python",
   "pygments_lexer": "ipython3",
   "version": "3.7.7"
  },
  "nteract": {
   "version": "0.2.0"
  }
 },
 "nbformat": 4,
 "nbformat_minor": 2
}

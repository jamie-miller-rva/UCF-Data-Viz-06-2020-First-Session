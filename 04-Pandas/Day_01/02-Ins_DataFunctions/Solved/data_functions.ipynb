{
 "cells": [
  {
   "cell_type": "code",
   "execution_count": 1,
   "metadata": {},
   "outputs": [],
   "source": [
    "# Dependencies\n",
    "import pandas as pd"
   ]
  },
  {
   "cell_type": "code",
   "execution_count": 2,
   "metadata": {},
   "outputs": [],
   "source": [
    "# Save path to data set in a variable\n",
    "data_file = \"Resources/dataSet.csv\""
   ]
  },
  {
   "cell_type": "code",
   "execution_count": 3,
   "metadata": {},
   "outputs": [
    {
     "data": {
      "text/html": [
       "<div>\n",
       "<style scoped>\n",
       "    .dataframe tbody tr th:only-of-type {\n",
       "        vertical-align: middle;\n",
       "    }\n",
       "\n",
       "    .dataframe tbody tr th {\n",
       "        vertical-align: top;\n",
       "    }\n",
       "\n",
       "    .dataframe thead th {\n",
       "        text-align: right;\n",
       "    }\n",
       "</style>\n",
       "<table border=\"1\" class=\"dataframe\">\n",
       "  <thead>\n",
       "    <tr style=\"text-align: right;\">\n",
       "      <th></th>\n",
       "      <th>id</th>\n",
       "      <th>First Name</th>\n",
       "      <th>Last Name</th>\n",
       "      <th>Gender</th>\n",
       "      <th>Amount</th>\n",
       "    </tr>\n",
       "  </thead>\n",
       "  <tbody>\n",
       "    <tr>\n",
       "      <th>0</th>\n",
       "      <td>1</td>\n",
       "      <td>Todd</td>\n",
       "      <td>Lopez</td>\n",
       "      <td>M</td>\n",
       "      <td>8067.7</td>\n",
       "    </tr>\n",
       "    <tr>\n",
       "      <th>1</th>\n",
       "      <td>2</td>\n",
       "      <td>Joshua</td>\n",
       "      <td>White</td>\n",
       "      <td>M</td>\n",
       "      <td>7330.1</td>\n",
       "    </tr>\n",
       "    <tr>\n",
       "      <th>2</th>\n",
       "      <td>3</td>\n",
       "      <td>Mary</td>\n",
       "      <td>Lewis</td>\n",
       "      <td>F</td>\n",
       "      <td>16335.0</td>\n",
       "    </tr>\n",
       "    <tr>\n",
       "      <th>3</th>\n",
       "      <td>4</td>\n",
       "      <td>Emily</td>\n",
       "      <td>Burns</td>\n",
       "      <td>F</td>\n",
       "      <td>12460.8</td>\n",
       "    </tr>\n",
       "    <tr>\n",
       "      <th>4</th>\n",
       "      <td>5</td>\n",
       "      <td>Christina</td>\n",
       "      <td>Romero</td>\n",
       "      <td>F</td>\n",
       "      <td>15271.9</td>\n",
       "    </tr>\n",
       "  </tbody>\n",
       "</table>\n",
       "</div>"
      ],
      "text/plain": [
       "   id First Name Last Name Gender   Amount\n",
       "0   1       Todd     Lopez      M   8067.7\n",
       "1   2     Joshua     White      M   7330.1\n",
       "2   3       Mary     Lewis      F  16335.0\n",
       "3   4      Emily     Burns      F  12460.8\n",
       "4   5  Christina    Romero      F  15271.9"
      ]
     },
     "execution_count": 3,
     "metadata": {},
     "output_type": "execute_result"
    }
   ],
   "source": [
    "# Use Pandas to read data\n",
    "data_file_pd = pd.read_csv(data_file)\n",
    "data_file_pd.head()"
   ]
  },
  {
   "cell_type": "code",
   "execution_count": 4,
   "metadata": {},
   "outputs": [
    {
     "data": {
      "text/html": [
       "<div>\n",
       "<style scoped>\n",
       "    .dataframe tbody tr th:only-of-type {\n",
       "        vertical-align: middle;\n",
       "    }\n",
       "\n",
       "    .dataframe tbody tr th {\n",
       "        vertical-align: top;\n",
       "    }\n",
       "\n",
       "    .dataframe thead th {\n",
       "        text-align: right;\n",
       "    }\n",
       "</style>\n",
       "<table border=\"1\" class=\"dataframe\">\n",
       "  <thead>\n",
       "    <tr style=\"text-align: right;\">\n",
       "      <th></th>\n",
       "      <th>Amount</th>\n",
       "      <th>Gender</th>\n",
       "    </tr>\n",
       "  </thead>\n",
       "  <tbody>\n",
       "    <tr>\n",
       "      <th>0</th>\n",
       "      <td>8067.7</td>\n",
       "      <td>M</td>\n",
       "    </tr>\n",
       "    <tr>\n",
       "      <th>1</th>\n",
       "      <td>7330.1</td>\n",
       "      <td>M</td>\n",
       "    </tr>\n",
       "    <tr>\n",
       "      <th>2</th>\n",
       "      <td>16335.0</td>\n",
       "      <td>F</td>\n",
       "    </tr>\n",
       "    <tr>\n",
       "      <th>3</th>\n",
       "      <td>12460.8</td>\n",
       "      <td>F</td>\n",
       "    </tr>\n",
       "    <tr>\n",
       "      <th>4</th>\n",
       "      <td>15271.9</td>\n",
       "      <td>F</td>\n",
       "    </tr>\n",
       "  </tbody>\n",
       "</table>\n",
       "</div>"
      ],
      "text/plain": [
       "    Amount Gender\n",
       "0   8067.7      M\n",
       "1   7330.1      M\n",
       "2  16335.0      F\n",
       "3  12460.8      F\n",
       "4  15271.9      F"
      ]
     },
     "execution_count": 4,
     "metadata": {},
     "output_type": "execute_result"
    }
   ],
   "source": [
    "# Reference multiple columns within a DataFrame\n",
    "data_file_pd[[\"Amount\", \"Gender\"]].head()"
   ]
  },
  {
   "cell_type": "code",
   "execution_count": 5,
   "metadata": {
    "inputHidden": false,
    "outputHidden": false
   },
   "outputs": [
    {
     "data": {
      "text/html": [
       "<div>\n",
       "<style scoped>\n",
       "    .dataframe tbody tr th:only-of-type {\n",
       "        vertical-align: middle;\n",
       "    }\n",
       "\n",
       "    .dataframe tbody tr th {\n",
       "        vertical-align: top;\n",
       "    }\n",
       "\n",
       "    .dataframe thead th {\n",
       "        text-align: right;\n",
       "    }\n",
       "</style>\n",
       "<table border=\"1\" class=\"dataframe\">\n",
       "  <thead>\n",
       "    <tr style=\"text-align: right;\">\n",
       "      <th></th>\n",
       "      <th>id</th>\n",
       "      <th>Amount</th>\n",
       "    </tr>\n",
       "  </thead>\n",
       "  <tbody>\n",
       "    <tr>\n",
       "      <th>count</th>\n",
       "      <td>1000.000000</td>\n",
       "      <td>1000.000000</td>\n",
       "    </tr>\n",
       "    <tr>\n",
       "      <th>mean</th>\n",
       "      <td>500.500000</td>\n",
       "      <td>10051.323600</td>\n",
       "    </tr>\n",
       "    <tr>\n",
       "      <th>std</th>\n",
       "      <td>288.819436</td>\n",
       "      <td>5831.230806</td>\n",
       "    </tr>\n",
       "    <tr>\n",
       "      <th>min</th>\n",
       "      <td>1.000000</td>\n",
       "      <td>3.400000</td>\n",
       "    </tr>\n",
       "    <tr>\n",
       "      <th>25%</th>\n",
       "      <td>250.750000</td>\n",
       "      <td>4854.875000</td>\n",
       "    </tr>\n",
       "    <tr>\n",
       "      <th>50%</th>\n",
       "      <td>500.500000</td>\n",
       "      <td>10318.050000</td>\n",
       "    </tr>\n",
       "    <tr>\n",
       "      <th>75%</th>\n",
       "      <td>750.250000</td>\n",
       "      <td>15117.425000</td>\n",
       "    </tr>\n",
       "    <tr>\n",
       "      <th>max</th>\n",
       "      <td>1000.000000</td>\n",
       "      <td>19987.400000</td>\n",
       "    </tr>\n",
       "  </tbody>\n",
       "</table>\n",
       "</div>"
      ],
      "text/plain": [
       "                id        Amount\n",
       "count  1000.000000   1000.000000\n",
       "mean    500.500000  10051.323600\n",
       "std     288.819436   5831.230806\n",
       "min       1.000000      3.400000\n",
       "25%     250.750000   4854.875000\n",
       "50%     500.500000  10318.050000\n",
       "75%     750.250000  15117.425000\n",
       "max    1000.000000  19987.400000"
      ]
     },
     "execution_count": 5,
     "metadata": {},
     "output_type": "execute_result"
    }
   ],
   "source": [
    "# Display a statistical overview of the DataFrame\n",
    "data_file_pd.describe()"
   ]
  },
  {
   "cell_type": "code",
   "execution_count": 6,
   "metadata": {},
   "outputs": [
    {
     "data": {
      "text/plain": [
       "0     8067.7\n",
       "1     7330.1\n",
       "2    16335.0\n",
       "3    12460.8\n",
       "4    15271.9\n",
       "Name: Amount, dtype: float64"
      ]
     },
     "execution_count": 6,
     "metadata": {},
     "output_type": "execute_result"
    }
   ],
   "source": [
    "# Reference a single column within a DataFrame\n",
    "data_file_pd[\"Amount\"].head()"
   ]
  },
  {
   "cell_type": "code",
   "execution_count": 7,
   "metadata": {},
   "outputs": [
    {
     "data": {
      "text/plain": [
       "10051.323600000002"
      ]
     },
     "execution_count": 7,
     "metadata": {},
     "output_type": "execute_result"
    }
   ],
   "source": [
    "# The mean method averages the series\n",
    "average = data_file_pd[\"Amount\"].mean()\n",
    "average"
   ]
  },
  {
   "cell_type": "code",
   "execution_count": 8,
   "metadata": {},
   "outputs": [
    {
     "data": {
      "text/plain": [
       "10051323.600000001"
      ]
     },
     "execution_count": 8,
     "metadata": {},
     "output_type": "execute_result"
    }
   ],
   "source": [
    "# The sum method adds every entry in the series\n",
    "total = data_file_pd[\"Amount\"].sum()\n",
    "total"
   ]
  },
  {
   "cell_type": "code",
   "execution_count": 9,
   "metadata": {
    "scrolled": false
   },
   "outputs": [
    {
     "data": {
      "text/plain": [
       "array(['Lopez', 'White', 'Lewis', 'Burns', 'Romero', 'Andrews', 'Baker',\n",
       "       'Diaz', 'Burke', 'Richards', 'Hansen', 'Tucker', 'Wheeler',\n",
       "       'Turner', 'Reynolds', 'Carpenter', 'Scott', 'Ryan', 'Marshall',\n",
       "       'Fernandez', 'Olson', 'Riley', 'Woods', 'Wells', 'Gutierrez',\n",
       "       'Harvey', 'Ruiz', 'Lee', 'Welch', 'Cooper', 'Nichols', 'Murray',\n",
       "       'Gomez', 'Green', 'Jacobs', 'Griffin', 'Perry', 'Dunn', 'Gardner',\n",
       "       'Gray', 'Walker', 'Harris', 'Lawrence', 'Black', 'Simpson', 'Sims',\n",
       "       'Weaver', 'Carr', 'Owens', 'Stephens', 'Butler', 'Matthews', 'Cox',\n",
       "       'Brooks', 'Austin', 'Moore', 'Hunter', 'Cunningham', 'Lane',\n",
       "       'Montgomery', 'Vasquez', 'Freeman', 'Hernandez', 'Alexander',\n",
       "       'Pierce', 'Mcdonald', 'Kelly', 'Foster', 'Bell', 'Johnson',\n",
       "       'Bowman', 'Porter', 'Wood', 'Reid', 'Willis', 'Bishop',\n",
       "       'Washington', 'Gonzales', 'Davis', 'Martinez', 'Martin', 'Long',\n",
       "       'Howell', 'Hawkins', 'Knight', 'Price', 'Day', 'Bailey', 'Flores',\n",
       "       'Young', 'Evans', 'Cruz', 'Chavez', 'Barnes', 'Coleman', 'Burton',\n",
       "       'Clark', 'Carter', 'Franklin', 'Ellis', 'Miller', 'Allen', 'Mason',\n",
       "       'Patterson', 'Stevens', 'Kim', 'Kelley', 'Robinson', 'Hughes',\n",
       "       'Morgan', 'Dean', 'Stewart', 'Murphy', 'Fox', 'Simmons',\n",
       "       'Thompson', 'Fuller', 'Peterson', 'Hanson', 'Wright', 'Reed',\n",
       "       'Graham', 'Parker', 'Boyd', 'Taylor', 'Greene', 'George', 'Mills',\n",
       "       'Duncan', 'Hill', 'Jordan', 'Stanley', 'Hall', 'James', 'Stone',\n",
       "       'Warren', 'Fowler', 'Williamson', 'Lynch', 'Harper', 'Little',\n",
       "       'Nguyen', 'Morrison', 'Ramirez', 'Howard', 'Watkins', 'Robertson',\n",
       "       'Powell', 'Sanchez', 'Sanders', 'Grant', 'Ross', 'Mitchell',\n",
       "       'Henderson', 'Rose', 'Perez', 'Berry', 'Watson', 'Gordon',\n",
       "       'Morales', 'Arnold', 'Morris', 'Crawford', 'Smith', 'Medina',\n",
       "       'Alvarez', 'Collins', 'Rodriguez', 'Mccoy', 'Bennett',\n",
       "       'Richardson', 'Chapman', 'Johnston', 'Gilbert', 'Ford', 'Russell',\n",
       "       'Nelson', 'Castillo', 'Cole', 'Rice', 'Payne', 'Frazier', 'Webb',\n",
       "       'Armstrong', 'Wilson', 'Garza', 'Garrett', 'Spencer', 'Peters',\n",
       "       'Sullivan', 'Brown', 'Williams', 'Gonzalez', 'Palmer', 'Fields',\n",
       "       'Snyder', 'Jackson', 'Edwards', 'Anderson', 'Cook', 'Ramos',\n",
       "       'Harrison', 'Lawson', 'Banks', 'Wallace', 'Ortiz', 'Gibson',\n",
       "       'Reyes', 'Shaw', 'Ward', 'Perkins', 'Bradley', 'Rivera', 'Jenkins',\n",
       "       'Hart', 'Phillips', 'Garcia', 'Fisher', 'King', 'Larson', 'Hunt',\n",
       "       'Jones', 'Hudson', 'Myers', 'Hayes', 'Dixon', 'Schmidt', 'Moreno',\n",
       "       'Rogers', 'Thomas', 'Meyer', 'Daniels', 'Bryant', 'Henry',\n",
       "       'Campbell', 'Ferguson', 'Oliver', 'Ray', 'Carroll', 'Wagner',\n",
       "       'Kennedy', 'Holmes'], dtype=object)"
      ]
     },
     "execution_count": 9,
     "metadata": {},
     "output_type": "execute_result"
    }
   ],
   "source": [
    "# The unique method shows every element of the series that appears only once\n",
    "unique = data_file_pd[\"Last Name\"].unique()\n",
    "unique"
   ]
  },
  {
   "cell_type": "code",
   "execution_count": 10,
   "metadata": {},
   "outputs": [
    {
     "data": {
      "text/plain": [
       "M    515\n",
       "F    485\n",
       "Name: Gender, dtype: int64"
      ]
     },
     "execution_count": 10,
     "metadata": {},
     "output_type": "execute_result"
    }
   ],
   "source": [
    "# The value_counts method counts unique values in a column\n",
    "count = data_file_pd[\"Gender\"].value_counts()\n",
    "count"
   ]
  },
  {
   "cell_type": "code",
   "execution_count": 11,
   "metadata": {},
   "outputs": [
    {
     "data": {
      "text/html": [
       "<div>\n",
       "<style scoped>\n",
       "    .dataframe tbody tr th:only-of-type {\n",
       "        vertical-align: middle;\n",
       "    }\n",
       "\n",
       "    .dataframe tbody tr th {\n",
       "        vertical-align: top;\n",
       "    }\n",
       "\n",
       "    .dataframe thead th {\n",
       "        text-align: right;\n",
       "    }\n",
       "</style>\n",
       "<table border=\"1\" class=\"dataframe\">\n",
       "  <thead>\n",
       "    <tr style=\"text-align: right;\">\n",
       "      <th></th>\n",
       "      <th>id</th>\n",
       "      <th>First Name</th>\n",
       "      <th>Last Name</th>\n",
       "      <th>Gender</th>\n",
       "      <th>Amount</th>\n",
       "      <th>Thousands of Dollars</th>\n",
       "    </tr>\n",
       "  </thead>\n",
       "  <tbody>\n",
       "    <tr>\n",
       "      <th>0</th>\n",
       "      <td>1</td>\n",
       "      <td>Todd</td>\n",
       "      <td>Lopez</td>\n",
       "      <td>M</td>\n",
       "      <td>8067.7</td>\n",
       "      <td>8.0677</td>\n",
       "    </tr>\n",
       "    <tr>\n",
       "      <th>1</th>\n",
       "      <td>2</td>\n",
       "      <td>Joshua</td>\n",
       "      <td>White</td>\n",
       "      <td>M</td>\n",
       "      <td>7330.1</td>\n",
       "      <td>7.3301</td>\n",
       "    </tr>\n",
       "    <tr>\n",
       "      <th>2</th>\n",
       "      <td>3</td>\n",
       "      <td>Mary</td>\n",
       "      <td>Lewis</td>\n",
       "      <td>F</td>\n",
       "      <td>16335.0</td>\n",
       "      <td>16.3350</td>\n",
       "    </tr>\n",
       "    <tr>\n",
       "      <th>3</th>\n",
       "      <td>4</td>\n",
       "      <td>Emily</td>\n",
       "      <td>Burns</td>\n",
       "      <td>F</td>\n",
       "      <td>12460.8</td>\n",
       "      <td>12.4608</td>\n",
       "    </tr>\n",
       "    <tr>\n",
       "      <th>4</th>\n",
       "      <td>5</td>\n",
       "      <td>Christina</td>\n",
       "      <td>Romero</td>\n",
       "      <td>F</td>\n",
       "      <td>15271.9</td>\n",
       "      <td>15.2719</td>\n",
       "    </tr>\n",
       "  </tbody>\n",
       "</table>\n",
       "</div>"
      ],
      "text/plain": [
       "   id First Name Last Name Gender   Amount  Thousands of Dollars\n",
       "0   1       Todd     Lopez      M   8067.7                8.0677\n",
       "1   2     Joshua     White      M   7330.1                7.3301\n",
       "2   3       Mary     Lewis      F  16335.0               16.3350\n",
       "3   4      Emily     Burns      F  12460.8               12.4608\n",
       "4   5  Christina    Romero      F  15271.9               15.2719"
      ]
     },
     "execution_count": 11,
     "metadata": {},
     "output_type": "execute_result"
    }
   ],
   "source": [
    "# Calculations can also be performed on Series and added into DataFrames as new columns\n",
    "thousands_of_dollars = data_file_pd[\"Amount\"]/1000\n",
    "data_file_pd[\"Thousands of Dollars\"] = thousands_of_dollars\n",
    "\n",
    "data_file_pd.head()"
   ]
  }
 ],
 "metadata": {
  "anaconda-cloud": {},
  "kernel_info": {
   "name": "python3"
  },
  "kernelspec": {
   "display_name": "PythonData",
   "language": "python",
   "name": "pythondata"
  },
  "language_info": {
   "codemirror_mode": {
    "name": "ipython",
    "version": 3
   },
   "file_extension": ".py",
   "mimetype": "text/x-python",
   "name": "python",
   "nbconvert_exporter": "python",
   "pygments_lexer": "ipython3",
   "version": "3.7.7"
  },
  "nteract": {
   "version": "0.2.0"
  }
 },
 "nbformat": 4,
 "nbformat_minor": 2
}

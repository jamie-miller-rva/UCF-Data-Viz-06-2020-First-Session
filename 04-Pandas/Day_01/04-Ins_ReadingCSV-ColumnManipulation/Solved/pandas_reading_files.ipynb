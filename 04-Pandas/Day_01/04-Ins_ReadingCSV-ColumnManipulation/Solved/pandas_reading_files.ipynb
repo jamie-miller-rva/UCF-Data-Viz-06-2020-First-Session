{
 "cells": [
  {
   "cell_type": "code",
   "execution_count": 1,
   "metadata": {},
   "outputs": [],
   "source": [
    "# Dependencies\n",
    "import pandas as pd"
   ]
  },
  {
   "cell_type": "code",
   "execution_count": 2,
   "metadata": {},
   "outputs": [],
   "source": [
    "# Store filepath in a variable\n",
    "file_one = \"Resources/DataOne.csv\""
   ]
  },
  {
   "cell_type": "code",
   "execution_count": 3,
   "metadata": {},
   "outputs": [],
   "source": [
    "# Read our Data file with the pandas library\n",
    "# Not every CSV requires an encoding, but be aware this can come up\n",
    "file_one_df = pd.read_csv(file_one, encoding=\"ISO-8859-1\")"
   ]
  },
  {
   "cell_type": "code",
   "execution_count": 4,
   "metadata": {},
   "outputs": [
    {
     "data": {
      "text/html": [
       "<div>\n",
       "<style scoped>\n",
       "    .dataframe tbody tr th:only-of-type {\n",
       "        vertical-align: middle;\n",
       "    }\n",
       "\n",
       "    .dataframe tbody tr th {\n",
       "        vertical-align: top;\n",
       "    }\n",
       "\n",
       "    .dataframe thead th {\n",
       "        text-align: right;\n",
       "    }\n",
       "</style>\n",
       "<table border=\"1\" class=\"dataframe\">\n",
       "  <thead>\n",
       "    <tr style=\"text-align: right;\">\n",
       "      <th></th>\n",
       "      <th>id</th>\n",
       "      <th>first_name</th>\n",
       "      <th>last_name</th>\n",
       "      <th>email</th>\n",
       "      <th>date_enrolled</th>\n",
       "    </tr>\n",
       "  </thead>\n",
       "  <tbody>\n",
       "    <tr>\n",
       "      <th>0</th>\n",
       "      <td>4587277</td>\n",
       "      <td>David</td>\n",
       "      <td>Jordan</td>\n",
       "      <td>djordan0@home.pl</td>\n",
       "      <td>3/10/98</td>\n",
       "    </tr>\n",
       "    <tr>\n",
       "      <th>1</th>\n",
       "      <td>3974214</td>\n",
       "      <td>Stephen</td>\n",
       "      <td>Riley</td>\n",
       "      <td>sriley1@hugedomains.com</td>\n",
       "      <td>4/14/00</td>\n",
       "    </tr>\n",
       "    <tr>\n",
       "      <th>2</th>\n",
       "      <td>1529704</td>\n",
       "      <td>Evelyn</td>\n",
       "      <td>Grant</td>\n",
       "      <td>egrant2@livejournal.com</td>\n",
       "      <td>10/8/95</td>\n",
       "    </tr>\n",
       "    <tr>\n",
       "      <th>3</th>\n",
       "      <td>2929889</td>\n",
       "      <td>Joe</td>\n",
       "      <td>Mendoza</td>\n",
       "      <td>jmendoza3@un.org</td>\n",
       "      <td>7/8/96</td>\n",
       "    </tr>\n",
       "    <tr>\n",
       "      <th>4</th>\n",
       "      <td>5252933</td>\n",
       "      <td>Benjamin</td>\n",
       "      <td>Rodriguez</td>\n",
       "      <td>brodriguez4@elpais.com</td>\n",
       "      <td>2/7/95</td>\n",
       "    </tr>\n",
       "  </tbody>\n",
       "</table>\n",
       "</div>"
      ],
      "text/plain": [
       "        id first_name  last_name                    email date_enrolled\n",
       "0  4587277      David     Jordan         djordan0@home.pl       3/10/98\n",
       "1  3974214    Stephen      Riley  sriley1@hugedomains.com       4/14/00\n",
       "2  1529704     Evelyn      Grant  egrant2@livejournal.com       10/8/95\n",
       "3  2929889        Joe    Mendoza         jmendoza3@un.org        7/8/96\n",
       "4  5252933   Benjamin  Rodriguez   brodriguez4@elpais.com        2/7/95"
      ]
     },
     "execution_count": 4,
     "metadata": {},
     "output_type": "execute_result"
    }
   ],
   "source": [
    "# Show just the header\n",
    "file_one_df.head()"
   ]
  },
  {
   "cell_type": "code",
   "execution_count": 5,
   "metadata": {},
   "outputs": [
    {
     "data": {
      "text/plain": [
       "0       David\n",
       "1     Stephen\n",
       "2      Evelyn\n",
       "3         Joe\n",
       "4    Benjamin\n",
       "Name: first_name, dtype: object"
      ]
     },
     "execution_count": 5,
     "metadata": {},
     "output_type": "execute_result"
    }
   ],
   "source": [
    "# Show a single column\n",
    "file_one_df[\"first_name\"].head()"
   ]
  },
  {
   "cell_type": "code",
   "execution_count": 6,
   "metadata": {},
   "outputs": [
    {
     "data": {
      "text/html": [
       "<div>\n",
       "<style scoped>\n",
       "    .dataframe tbody tr th:only-of-type {\n",
       "        vertical-align: middle;\n",
       "    }\n",
       "\n",
       "    .dataframe tbody tr th {\n",
       "        vertical-align: top;\n",
       "    }\n",
       "\n",
       "    .dataframe thead th {\n",
       "        text-align: right;\n",
       "    }\n",
       "</style>\n",
       "<table border=\"1\" class=\"dataframe\">\n",
       "  <thead>\n",
       "    <tr style=\"text-align: right;\">\n",
       "      <th></th>\n",
       "      <th>first_name</th>\n",
       "      <th>email</th>\n",
       "    </tr>\n",
       "  </thead>\n",
       "  <tbody>\n",
       "    <tr>\n",
       "      <th>0</th>\n",
       "      <td>David</td>\n",
       "      <td>djordan0@home.pl</td>\n",
       "    </tr>\n",
       "    <tr>\n",
       "      <th>1</th>\n",
       "      <td>Stephen</td>\n",
       "      <td>sriley1@hugedomains.com</td>\n",
       "    </tr>\n",
       "    <tr>\n",
       "      <th>2</th>\n",
       "      <td>Evelyn</td>\n",
       "      <td>egrant2@livejournal.com</td>\n",
       "    </tr>\n",
       "    <tr>\n",
       "      <th>3</th>\n",
       "      <td>Joe</td>\n",
       "      <td>jmendoza3@un.org</td>\n",
       "    </tr>\n",
       "    <tr>\n",
       "      <th>4</th>\n",
       "      <td>Benjamin</td>\n",
       "      <td>brodriguez4@elpais.com</td>\n",
       "    </tr>\n",
       "  </tbody>\n",
       "</table>\n",
       "</div>"
      ],
      "text/plain": [
       "  first_name                    email\n",
       "0      David         djordan0@home.pl\n",
       "1    Stephen  sriley1@hugedomains.com\n",
       "2     Evelyn  egrant2@livejournal.com\n",
       "3        Joe         jmendoza3@un.org\n",
       "4   Benjamin   brodriguez4@elpais.com"
      ]
     },
     "execution_count": 6,
     "metadata": {},
     "output_type": "execute_result"
    }
   ],
   "source": [
    "# Show mulitple specific columns--note the extra brackets\n",
    "file_one_df[[\"first_name\", \"email\"]].head()"
   ]
  },
  {
   "cell_type": "code",
   "execution_count": 7,
   "metadata": {},
   "outputs": [
    {
     "data": {
      "text/plain": [
       "Index(['id', 'first_name', 'last_name', 'email', 'date_enrolled'], dtype='object')"
      ]
     },
     "execution_count": 7,
     "metadata": {},
     "output_type": "execute_result"
    }
   ],
   "source": [
    "# Collecting a list of all columns within the DataFrame\n",
    "file_one_df.columns"
   ]
  },
  {
   "cell_type": "code",
   "execution_count": 8,
   "metadata": {},
   "outputs": [
    {
     "data": {
      "text/html": [
       "<div>\n",
       "<style scoped>\n",
       "    .dataframe tbody tr th:only-of-type {\n",
       "        vertical-align: middle;\n",
       "    }\n",
       "\n",
       "    .dataframe tbody tr th {\n",
       "        vertical-align: top;\n",
       "    }\n",
       "\n",
       "    .dataframe thead th {\n",
       "        text-align: right;\n",
       "    }\n",
       "</style>\n",
       "<table border=\"1\" class=\"dataframe\">\n",
       "  <thead>\n",
       "    <tr style=\"text-align: right;\">\n",
       "      <th></th>\n",
       "      <th>Student ID</th>\n",
       "      <th>First Name</th>\n",
       "      <th>Last Name</th>\n",
       "      <th>Email</th>\n",
       "      <th>Date Enrolled</th>\n",
       "    </tr>\n",
       "  </thead>\n",
       "  <tbody>\n",
       "    <tr>\n",
       "      <th>0</th>\n",
       "      <td>4587277</td>\n",
       "      <td>David</td>\n",
       "      <td>Jordan</td>\n",
       "      <td>djordan0@home.pl</td>\n",
       "      <td>3/10/98</td>\n",
       "    </tr>\n",
       "    <tr>\n",
       "      <th>1</th>\n",
       "      <td>3974214</td>\n",
       "      <td>Stephen</td>\n",
       "      <td>Riley</td>\n",
       "      <td>sriley1@hugedomains.com</td>\n",
       "      <td>4/14/00</td>\n",
       "    </tr>\n",
       "    <tr>\n",
       "      <th>2</th>\n",
       "      <td>1529704</td>\n",
       "      <td>Evelyn</td>\n",
       "      <td>Grant</td>\n",
       "      <td>egrant2@livejournal.com</td>\n",
       "      <td>10/8/95</td>\n",
       "    </tr>\n",
       "    <tr>\n",
       "      <th>3</th>\n",
       "      <td>2929889</td>\n",
       "      <td>Joe</td>\n",
       "      <td>Mendoza</td>\n",
       "      <td>jmendoza3@un.org</td>\n",
       "      <td>7/8/96</td>\n",
       "    </tr>\n",
       "    <tr>\n",
       "      <th>4</th>\n",
       "      <td>5252933</td>\n",
       "      <td>Benjamin</td>\n",
       "      <td>Rodriguez</td>\n",
       "      <td>brodriguez4@elpais.com</td>\n",
       "      <td>2/7/95</td>\n",
       "    </tr>\n",
       "  </tbody>\n",
       "</table>\n",
       "</div>"
      ],
      "text/plain": [
       "   Student ID First Name  Last Name                    Email Date Enrolled\n",
       "0     4587277      David     Jordan         djordan0@home.pl       3/10/98\n",
       "1     3974214    Stephen      Riley  sriley1@hugedomains.com       4/14/00\n",
       "2     1529704     Evelyn      Grant  egrant2@livejournal.com       10/8/95\n",
       "3     2929889        Joe    Mendoza         jmendoza3@un.org        7/8/96\n",
       "4     5252933   Benjamin  Rodriguez   brodriguez4@elpais.com        2/7/95"
      ]
     },
     "execution_count": 8,
     "metadata": {},
     "output_type": "execute_result"
    }
   ],
   "source": [
    "# Using .rename(columns={}) in order to rename columns\n",
    "renamed_df = file_one_df.rename(columns={\"id\":\"Student ID\",\n",
    "                                         \"first_name\":\"First Name\",\n",
    "                                        \"last_name\": \"Last Name\",\n",
    "                                        \"email\": \"Email\",\n",
    "                                        \"date_enrolled\": \"Date Enrolled\"})\n",
    "renamed_df.head()"
   ]
  },
  {
   "cell_type": "code",
   "execution_count": 9,
   "metadata": {},
   "outputs": [
    {
     "data": {
      "text/html": [
       "<div>\n",
       "<style scoped>\n",
       "    .dataframe tbody tr th:only-of-type {\n",
       "        vertical-align: middle;\n",
       "    }\n",
       "\n",
       "    .dataframe tbody tr th {\n",
       "        vertical-align: top;\n",
       "    }\n",
       "\n",
       "    .dataframe thead th {\n",
       "        text-align: right;\n",
       "    }\n",
       "</style>\n",
       "<table border=\"1\" class=\"dataframe\">\n",
       "  <thead>\n",
       "    <tr style=\"text-align: right;\">\n",
       "      <th></th>\n",
       "      <th>Student ID</th>\n",
       "      <th>First Name</th>\n",
       "      <th>Last Name</th>\n",
       "      <th>Email</th>\n",
       "    </tr>\n",
       "  </thead>\n",
       "  <tbody>\n",
       "    <tr>\n",
       "      <th>0</th>\n",
       "      <td>4587277</td>\n",
       "      <td>David</td>\n",
       "      <td>Jordan</td>\n",
       "      <td>djordan0@home.pl</td>\n",
       "    </tr>\n",
       "    <tr>\n",
       "      <th>1</th>\n",
       "      <td>3974214</td>\n",
       "      <td>Stephen</td>\n",
       "      <td>Riley</td>\n",
       "      <td>sriley1@hugedomains.com</td>\n",
       "    </tr>\n",
       "    <tr>\n",
       "      <th>2</th>\n",
       "      <td>1529704</td>\n",
       "      <td>Evelyn</td>\n",
       "      <td>Grant</td>\n",
       "      <td>egrant2@livejournal.com</td>\n",
       "    </tr>\n",
       "    <tr>\n",
       "      <th>3</th>\n",
       "      <td>2929889</td>\n",
       "      <td>Joe</td>\n",
       "      <td>Mendoza</td>\n",
       "      <td>jmendoza3@un.org</td>\n",
       "    </tr>\n",
       "    <tr>\n",
       "      <th>4</th>\n",
       "      <td>5252933</td>\n",
       "      <td>Benjamin</td>\n",
       "      <td>Rodriguez</td>\n",
       "      <td>brodriguez4@elpais.com</td>\n",
       "    </tr>\n",
       "  </tbody>\n",
       "</table>\n",
       "</div>"
      ],
      "text/plain": [
       "   Student ID First Name  Last Name                    Email\n",
       "0     4587277      David     Jordan         djordan0@home.pl\n",
       "1     3974214    Stephen      Riley  sriley1@hugedomains.com\n",
       "2     1529704     Evelyn      Grant  egrant2@livejournal.com\n",
       "3     2929889        Joe    Mendoza         jmendoza3@un.org\n",
       "4     5252933   Benjamin  Rodriguez   brodriguez4@elpais.com"
      ]
     },
     "execution_count": 9,
     "metadata": {},
     "output_type": "execute_result"
    }
   ],
   "source": [
    "# Create a copy of DataFrame with specific columns. \n",
    "students_df = renamed_df[[\"Student ID\", \"First Name\", \"Last Name\", \"Email\" ]].copy()\n",
    "students_df.head()           "
   ]
  },
  {
   "cell_type": "code",
   "execution_count": null,
   "metadata": {},
   "outputs": [],
   "source": []
  }
 ],
 "metadata": {
  "anaconda-cloud": {},
  "kernelspec": {
   "display_name": "Python 3",
   "language": "python",
   "name": "python3"
  },
  "language_info": {
   "codemirror_mode": {
    "name": "ipython",
    "version": 3
   },
   "file_extension": ".py",
   "mimetype": "text/x-python",
   "name": "python",
   "nbconvert_exporter": "python",
   "pygments_lexer": "ipython3",
   "version": "3.6.10"
  }
 },
 "nbformat": 4,
 "nbformat_minor": 2
}
